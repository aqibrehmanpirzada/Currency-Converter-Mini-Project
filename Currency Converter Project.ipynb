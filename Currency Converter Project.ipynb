{
 "cells": [
  {
   "cell_type": "code",
   "execution_count": 1,
   "metadata": {},
   "outputs": [],
   "source": [
    "#Currency Converter\n"
   ]
  },
  {
   "cell_type": "code",
   "execution_count": null,
   "metadata": {},
   "outputs": [],
   "source": [
    "with open('currencyData.txt') as file:\n",
    "    lines = file.readlines()\n",
    "currencyDict = {}\n",
    "for line in lines:\n",
    "    parsed = line.split('\\t')\n",
    "    currencyDict[parsed[0]] = parsed[1] \n",
    "amount = int(input(\"Enter the Amount of the Currency\"))\n",
    "print(\"Enter the name of the currency you want to convert this amount to? Available Options:\\n\")\n",
    "[print(item) for item in currencyDict.keys()]\n",
    "currency = input(\"Enter the Currency Input of the Data\")\n",
    "print(f\"{amount} in PKR is equal to the {amount * float(currencyDict[currency])} {currency}\")"
   ]
  },
  {
   "cell_type": "code",
   "execution_count": null,
   "metadata": {},
   "outputs": [],
   "source": []
  }
 ],
 "metadata": {
  "kernelspec": {
   "display_name": "Python 3",
   "language": "python",
   "name": "python3"
  },
  "language_info": {
   "codemirror_mode": {
    "name": "ipython",
    "version": 3
   },
   "file_extension": ".py",
   "mimetype": "text/x-python",
   "name": "python",
   "nbconvert_exporter": "python",
   "pygments_lexer": "ipython3",
   "version": "3.8.5"
  }
 },
 "nbformat": 4,
 "nbformat_minor": 4
}
